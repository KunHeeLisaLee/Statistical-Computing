{
 "cells": [
  {
   "cell_type": "markdown",
   "metadata": {},
   "source": [
    "<h1> TED talks data exploration </h1>"
   ]
  },
  {
   "cell_type": "markdown",
   "metadata": {},
   "source": [
    "<h3>Lab 8, Assignment 2\n",
    "\n",
    "by Kun Hee (Lisa) Lee"
   ]
  },
  {
   "cell_type": "code",
   "execution_count": 1,
   "metadata": {},
   "outputs": [],
   "source": [
    "import pandas as pd"
   ]
  },
  {
   "cell_type": "markdown",
   "metadata": {},
   "source": [
    "<h3>Loading the data "
   ]
  },
  {
   "cell_type": "code",
   "execution_count": 2,
   "metadata": {},
   "outputs": [
    {
     "data": {
      "text/plain": [
       "pandas.core.frame.DataFrame"
      ]
     },
     "execution_count": 2,
     "metadata": {},
     "output_type": "execute_result"
    }
   ],
   "source": [
    "tedtalk_df = pd.read_csv(\"20221013_ted_talks.csv\")\n",
    "type(tedtalk_df)"
   ]
  },
  {
   "cell_type": "markdown",
   "metadata": {},
   "source": [
    "<h3> Displaying the data"
   ]
  },
  {
   "cell_type": "code",
   "execution_count": 3,
   "metadata": {},
   "outputs": [
    {
     "data": {
      "text/html": [
       "<div>\n",
       "<style scoped>\n",
       "    .dataframe tbody tr th:only-of-type {\n",
       "        vertical-align: middle;\n",
       "    }\n",
       "\n",
       "    .dataframe tbody tr th {\n",
       "        vertical-align: top;\n",
       "    }\n",
       "\n",
       "    .dataframe thead th {\n",
       "        text-align: right;\n",
       "    }\n",
       "</style>\n",
       "<table border=\"1\" class=\"dataframe\">\n",
       "  <thead>\n",
       "    <tr style=\"text-align: right;\">\n",
       "      <th></th>\n",
       "      <th>talk_id</th>\n",
       "      <th>title</th>\n",
       "      <th>speaker</th>\n",
       "      <th>recorded_date</th>\n",
       "      <th>published_date</th>\n",
       "      <th>event</th>\n",
       "      <th>duration</th>\n",
       "      <th>views</th>\n",
       "      <th>likes</th>\n",
       "    </tr>\n",
       "  </thead>\n",
       "  <tbody>\n",
       "    <tr>\n",
       "      <th>0</th>\n",
       "      <td>1</td>\n",
       "      <td>Averting the climate crisis</td>\n",
       "      <td>Al Gore</td>\n",
       "      <td>2006-02-25</td>\n",
       "      <td>2006-06-27</td>\n",
       "      <td>TED2006</td>\n",
       "      <td>957</td>\n",
       "      <td>3681537</td>\n",
       "      <td>110000</td>\n",
       "    </tr>\n",
       "    <tr>\n",
       "      <th>1</th>\n",
       "      <td>7</td>\n",
       "      <td>Simplicity sells</td>\n",
       "      <td>David Pogue</td>\n",
       "      <td>2006-02-24</td>\n",
       "      <td>2006-06-27</td>\n",
       "      <td>TED2006</td>\n",
       "      <td>1266</td>\n",
       "      <td>2012797</td>\n",
       "      <td>60000</td>\n",
       "    </tr>\n",
       "    <tr>\n",
       "      <th>2</th>\n",
       "      <td>53</td>\n",
       "      <td>Greening the ghetto</td>\n",
       "      <td>Majora Carter</td>\n",
       "      <td>2006-02-26</td>\n",
       "      <td>2006-06-27</td>\n",
       "      <td>TED2006</td>\n",
       "      <td>1096</td>\n",
       "      <td>3006315</td>\n",
       "      <td>90000</td>\n",
       "    </tr>\n",
       "    <tr>\n",
       "      <th>3</th>\n",
       "      <td>92</td>\n",
       "      <td>The best stats you've ever seen</td>\n",
       "      <td>Hans Rosling</td>\n",
       "      <td>2006-02-22</td>\n",
       "      <td>2006-06-27</td>\n",
       "      <td>TED2006</td>\n",
       "      <td>1176</td>\n",
       "      <td>15432904</td>\n",
       "      <td>462000</td>\n",
       "    </tr>\n",
       "    <tr>\n",
       "      <th>4</th>\n",
       "      <td>66</td>\n",
       "      <td>Do schools kill creativity?</td>\n",
       "      <td>Sir Ken Robinson</td>\n",
       "      <td>2006-02-25</td>\n",
       "      <td>2006-06-27</td>\n",
       "      <td>TED2006</td>\n",
       "      <td>1151</td>\n",
       "      <td>73935964</td>\n",
       "      <td>2200000</td>\n",
       "    </tr>\n",
       "    <tr>\n",
       "      <th>...</th>\n",
       "      <td>...</td>\n",
       "      <td>...</td>\n",
       "      <td>...</td>\n",
       "      <td>...</td>\n",
       "      <td>...</td>\n",
       "      <td>...</td>\n",
       "      <td>...</td>\n",
       "      <td>...</td>\n",
       "      <td>...</td>\n",
       "    </tr>\n",
       "    <tr>\n",
       "      <th>5696</th>\n",
       "      <td>98707</td>\n",
       "      <td>Is inequality inevitable?</td>\n",
       "      <td>TED-Ed</td>\n",
       "      <td>2022-10-11</td>\n",
       "      <td>2022-10-11</td>\n",
       "      <td>TED-Ed</td>\n",
       "      <td>390</td>\n",
       "      <td>109948</td>\n",
       "      <td>3200</td>\n",
       "    </tr>\n",
       "    <tr>\n",
       "      <th>5697</th>\n",
       "      <td>98662</td>\n",
       "      <td>4 ways to design a disability-friendly future</td>\n",
       "      <td>Meghan Hussey</td>\n",
       "      <td>2022-09-08</td>\n",
       "      <td>2022-10-11</td>\n",
       "      <td>TED Salon Bezos Scholars</td>\n",
       "      <td>544</td>\n",
       "      <td>310241</td>\n",
       "      <td>9300</td>\n",
       "    </tr>\n",
       "    <tr>\n",
       "      <th>5698</th>\n",
       "      <td>98383</td>\n",
       "      <td>Can exercise actually \"boost\" your metabolism?</td>\n",
       "      <td>Jen Gunter</td>\n",
       "      <td>2022-10-12</td>\n",
       "      <td>2022-10-12</td>\n",
       "      <td>Body Stuff with Dr. Jen Gunter</td>\n",
       "      <td>210</td>\n",
       "      <td>30087</td>\n",
       "      <td>902</td>\n",
       "    </tr>\n",
       "    <tr>\n",
       "      <th>5699</th>\n",
       "      <td>98706</td>\n",
       "      <td>How did they build the Great Pyramid of Giza?</td>\n",
       "      <td>Soraya Field Fiorio</td>\n",
       "      <td>2022-10-13</td>\n",
       "      <td>2022-10-13</td>\n",
       "      <td>TED-Ed</td>\n",
       "      <td>332</td>\n",
       "      <td>456</td>\n",
       "      <td>13</td>\n",
       "    </tr>\n",
       "    <tr>\n",
       "      <th>5700</th>\n",
       "      <td>98843</td>\n",
       "      <td>How to squeeze all the juice out of retirement</td>\n",
       "      <td>Riley Moynes</td>\n",
       "      <td>2022-02-19</td>\n",
       "      <td>2022-10-13</td>\n",
       "      <td>TEDxSurrey</td>\n",
       "      <td>743</td>\n",
       "      <td>131908</td>\n",
       "      <td>3900</td>\n",
       "    </tr>\n",
       "  </tbody>\n",
       "</table>\n",
       "<p>5701 rows × 9 columns</p>\n",
       "</div>"
      ],
      "text/plain": [
       "      talk_id                                           title  \\\n",
       "0           1                     Averting the climate crisis   \n",
       "1           7                                Simplicity sells   \n",
       "2          53                             Greening the ghetto   \n",
       "3          92                 The best stats you've ever seen   \n",
       "4          66                     Do schools kill creativity?   \n",
       "...       ...                                             ...   \n",
       "5696    98707                       Is inequality inevitable?   \n",
       "5697    98662   4 ways to design a disability-friendly future   \n",
       "5698    98383  Can exercise actually \"boost\" your metabolism?   \n",
       "5699    98706   How did they build the Great Pyramid of Giza?   \n",
       "5700    98843  How to squeeze all the juice out of retirement   \n",
       "\n",
       "                  speaker recorded_date published_date  \\\n",
       "0                 Al Gore    2006-02-25     2006-06-27   \n",
       "1             David Pogue    2006-02-24     2006-06-27   \n",
       "2           Majora Carter    2006-02-26     2006-06-27   \n",
       "3            Hans Rosling    2006-02-22     2006-06-27   \n",
       "4        Sir Ken Robinson    2006-02-25     2006-06-27   \n",
       "...                   ...           ...            ...   \n",
       "5696               TED-Ed    2022-10-11     2022-10-11   \n",
       "5697        Meghan Hussey    2022-09-08     2022-10-11   \n",
       "5698           Jen Gunter    2022-10-12     2022-10-12   \n",
       "5699  Soraya Field Fiorio    2022-10-13     2022-10-13   \n",
       "5700         Riley Moynes    2022-02-19     2022-10-13   \n",
       "\n",
       "                               event  duration     views    likes  \n",
       "0                            TED2006       957   3681537   110000  \n",
       "1                            TED2006      1266   2012797    60000  \n",
       "2                            TED2006      1096   3006315    90000  \n",
       "3                            TED2006      1176  15432904   462000  \n",
       "4                            TED2006      1151  73935964  2200000  \n",
       "...                              ...       ...       ...      ...  \n",
       "5696                          TED-Ed       390    109948     3200  \n",
       "5697        TED Salon Bezos Scholars       544    310241     9300  \n",
       "5698  Body Stuff with Dr. Jen Gunter       210     30087      902  \n",
       "5699                          TED-Ed       332       456       13  \n",
       "5700                      TEDxSurrey       743    131908     3900  \n",
       "\n",
       "[5701 rows x 9 columns]"
      ]
     },
     "execution_count": 3,
     "metadata": {},
     "output_type": "execute_result"
    }
   ],
   "source": [
    "tedtalk_df"
   ]
  },
  {
   "cell_type": "code",
   "execution_count": 4,
   "metadata": {},
   "outputs": [
    {
     "data": {
      "text/html": [
       "<div>\n",
       "<style scoped>\n",
       "    .dataframe tbody tr th:only-of-type {\n",
       "        vertical-align: middle;\n",
       "    }\n",
       "\n",
       "    .dataframe tbody tr th {\n",
       "        vertical-align: top;\n",
       "    }\n",
       "\n",
       "    .dataframe thead th {\n",
       "        text-align: right;\n",
       "    }\n",
       "</style>\n",
       "<table border=\"1\" class=\"dataframe\">\n",
       "  <thead>\n",
       "    <tr style=\"text-align: right;\">\n",
       "      <th></th>\n",
       "      <th>talk_id</th>\n",
       "      <th>title</th>\n",
       "      <th>speaker</th>\n",
       "      <th>recorded_date</th>\n",
       "      <th>published_date</th>\n",
       "      <th>event</th>\n",
       "      <th>duration</th>\n",
       "      <th>views</th>\n",
       "      <th>likes</th>\n",
       "    </tr>\n",
       "  </thead>\n",
       "  <tbody>\n",
       "    <tr>\n",
       "      <th>0</th>\n",
       "      <td>1</td>\n",
       "      <td>Averting the climate crisis</td>\n",
       "      <td>Al Gore</td>\n",
       "      <td>2006-02-25</td>\n",
       "      <td>2006-06-27</td>\n",
       "      <td>TED2006</td>\n",
       "      <td>957</td>\n",
       "      <td>3681537</td>\n",
       "      <td>110000</td>\n",
       "    </tr>\n",
       "    <tr>\n",
       "      <th>1</th>\n",
       "      <td>7</td>\n",
       "      <td>Simplicity sells</td>\n",
       "      <td>David Pogue</td>\n",
       "      <td>2006-02-24</td>\n",
       "      <td>2006-06-27</td>\n",
       "      <td>TED2006</td>\n",
       "      <td>1266</td>\n",
       "      <td>2012797</td>\n",
       "      <td>60000</td>\n",
       "    </tr>\n",
       "    <tr>\n",
       "      <th>2</th>\n",
       "      <td>53</td>\n",
       "      <td>Greening the ghetto</td>\n",
       "      <td>Majora Carter</td>\n",
       "      <td>2006-02-26</td>\n",
       "      <td>2006-06-27</td>\n",
       "      <td>TED2006</td>\n",
       "      <td>1096</td>\n",
       "      <td>3006315</td>\n",
       "      <td>90000</td>\n",
       "    </tr>\n",
       "    <tr>\n",
       "      <th>3</th>\n",
       "      <td>92</td>\n",
       "      <td>The best stats you've ever seen</td>\n",
       "      <td>Hans Rosling</td>\n",
       "      <td>2006-02-22</td>\n",
       "      <td>2006-06-27</td>\n",
       "      <td>TED2006</td>\n",
       "      <td>1176</td>\n",
       "      <td>15432904</td>\n",
       "      <td>462000</td>\n",
       "    </tr>\n",
       "    <tr>\n",
       "      <th>4</th>\n",
       "      <td>66</td>\n",
       "      <td>Do schools kill creativity?</td>\n",
       "      <td>Sir Ken Robinson</td>\n",
       "      <td>2006-02-25</td>\n",
       "      <td>2006-06-27</td>\n",
       "      <td>TED2006</td>\n",
       "      <td>1151</td>\n",
       "      <td>73935964</td>\n",
       "      <td>2200000</td>\n",
       "    </tr>\n",
       "  </tbody>\n",
       "</table>\n",
       "</div>"
      ],
      "text/plain": [
       "   talk_id                            title           speaker recorded_date  \\\n",
       "0        1      Averting the climate crisis           Al Gore    2006-02-25   \n",
       "1        7                 Simplicity sells       David Pogue    2006-02-24   \n",
       "2       53              Greening the ghetto     Majora Carter    2006-02-26   \n",
       "3       92  The best stats you've ever seen      Hans Rosling    2006-02-22   \n",
       "4       66      Do schools kill creativity?  Sir Ken Robinson    2006-02-25   \n",
       "\n",
       "  published_date    event  duration     views    likes  \n",
       "0     2006-06-27  TED2006       957   3681537   110000  \n",
       "1     2006-06-27  TED2006      1266   2012797    60000  \n",
       "2     2006-06-27  TED2006      1096   3006315    90000  \n",
       "3     2006-06-27  TED2006      1176  15432904   462000  \n",
       "4     2006-06-27  TED2006      1151  73935964  2200000  "
      ]
     },
     "execution_count": 4,
     "metadata": {},
     "output_type": "execute_result"
    }
   ],
   "source": [
    "tedtalk_df.head()"
   ]
  },
  {
   "cell_type": "markdown",
   "metadata": {},
   "source": [
    "Above is the first five rows of the data."
   ]
  },
  {
   "cell_type": "code",
   "execution_count": 5,
   "metadata": {},
   "outputs": [
    {
     "data": {
      "text/html": [
       "<div>\n",
       "<style scoped>\n",
       "    .dataframe tbody tr th:only-of-type {\n",
       "        vertical-align: middle;\n",
       "    }\n",
       "\n",
       "    .dataframe tbody tr th {\n",
       "        vertical-align: top;\n",
       "    }\n",
       "\n",
       "    .dataframe thead th {\n",
       "        text-align: right;\n",
       "    }\n",
       "</style>\n",
       "<table border=\"1\" class=\"dataframe\">\n",
       "  <thead>\n",
       "    <tr style=\"text-align: right;\">\n",
       "      <th></th>\n",
       "      <th>talk_id</th>\n",
       "      <th>title</th>\n",
       "      <th>speaker</th>\n",
       "      <th>recorded_date</th>\n",
       "      <th>published_date</th>\n",
       "      <th>event</th>\n",
       "      <th>duration</th>\n",
       "      <th>views</th>\n",
       "      <th>likes</th>\n",
       "    </tr>\n",
       "  </thead>\n",
       "  <tbody>\n",
       "    <tr>\n",
       "      <th>5696</th>\n",
       "      <td>98707</td>\n",
       "      <td>Is inequality inevitable?</td>\n",
       "      <td>TED-Ed</td>\n",
       "      <td>2022-10-11</td>\n",
       "      <td>2022-10-11</td>\n",
       "      <td>TED-Ed</td>\n",
       "      <td>390</td>\n",
       "      <td>109948</td>\n",
       "      <td>3200</td>\n",
       "    </tr>\n",
       "    <tr>\n",
       "      <th>5697</th>\n",
       "      <td>98662</td>\n",
       "      <td>4 ways to design a disability-friendly future</td>\n",
       "      <td>Meghan Hussey</td>\n",
       "      <td>2022-09-08</td>\n",
       "      <td>2022-10-11</td>\n",
       "      <td>TED Salon Bezos Scholars</td>\n",
       "      <td>544</td>\n",
       "      <td>310241</td>\n",
       "      <td>9300</td>\n",
       "    </tr>\n",
       "    <tr>\n",
       "      <th>5698</th>\n",
       "      <td>98383</td>\n",
       "      <td>Can exercise actually \"boost\" your metabolism?</td>\n",
       "      <td>Jen Gunter</td>\n",
       "      <td>2022-10-12</td>\n",
       "      <td>2022-10-12</td>\n",
       "      <td>Body Stuff with Dr. Jen Gunter</td>\n",
       "      <td>210</td>\n",
       "      <td>30087</td>\n",
       "      <td>902</td>\n",
       "    </tr>\n",
       "    <tr>\n",
       "      <th>5699</th>\n",
       "      <td>98706</td>\n",
       "      <td>How did they build the Great Pyramid of Giza?</td>\n",
       "      <td>Soraya Field Fiorio</td>\n",
       "      <td>2022-10-13</td>\n",
       "      <td>2022-10-13</td>\n",
       "      <td>TED-Ed</td>\n",
       "      <td>332</td>\n",
       "      <td>456</td>\n",
       "      <td>13</td>\n",
       "    </tr>\n",
       "    <tr>\n",
       "      <th>5700</th>\n",
       "      <td>98843</td>\n",
       "      <td>How to squeeze all the juice out of retirement</td>\n",
       "      <td>Riley Moynes</td>\n",
       "      <td>2022-02-19</td>\n",
       "      <td>2022-10-13</td>\n",
       "      <td>TEDxSurrey</td>\n",
       "      <td>743</td>\n",
       "      <td>131908</td>\n",
       "      <td>3900</td>\n",
       "    </tr>\n",
       "  </tbody>\n",
       "</table>\n",
       "</div>"
      ],
      "text/plain": [
       "      talk_id                                           title  \\\n",
       "5696    98707                       Is inequality inevitable?   \n",
       "5697    98662   4 ways to design a disability-friendly future   \n",
       "5698    98383  Can exercise actually \"boost\" your metabolism?   \n",
       "5699    98706   How did they build the Great Pyramid of Giza?   \n",
       "5700    98843  How to squeeze all the juice out of retirement   \n",
       "\n",
       "                  speaker recorded_date published_date  \\\n",
       "5696               TED-Ed    2022-10-11     2022-10-11   \n",
       "5697        Meghan Hussey    2022-09-08     2022-10-11   \n",
       "5698           Jen Gunter    2022-10-12     2022-10-12   \n",
       "5699  Soraya Field Fiorio    2022-10-13     2022-10-13   \n",
       "5700         Riley Moynes    2022-02-19     2022-10-13   \n",
       "\n",
       "                               event  duration   views  likes  \n",
       "5696                          TED-Ed       390  109948   3200  \n",
       "5697        TED Salon Bezos Scholars       544  310241   9300  \n",
       "5698  Body Stuff with Dr. Jen Gunter       210   30087    902  \n",
       "5699                          TED-Ed       332     456     13  \n",
       "5700                      TEDxSurrey       743  131908   3900  "
      ]
     },
     "execution_count": 5,
     "metadata": {},
     "output_type": "execute_result"
    }
   ],
   "source": [
    "tedtalk_df.tail()"
   ]
  },
  {
   "cell_type": "markdown",
   "metadata": {},
   "source": [
    "Above is the last five rows of the data."
   ]
  },
  {
   "cell_type": "markdown",
   "metadata": {},
   "source": [
    "<h3>Simple Exploratory Analysis "
   ]
  },
  {
   "cell_type": "code",
   "execution_count": 6,
   "metadata": {},
   "outputs": [
    {
     "data": {
      "text/plain": [
       "RangeIndex(start=0, stop=5701, step=1)"
      ]
     },
     "execution_count": 6,
     "metadata": {},
     "output_type": "execute_result"
    }
   ],
   "source": [
    "tedtalk_df.index"
   ]
  },
  {
   "cell_type": "markdown",
   "metadata": {},
   "source": [
    "This data has 5,701 rows."
   ]
  },
  {
   "cell_type": "code",
   "execution_count": 7,
   "metadata": {},
   "outputs": [
    {
     "data": {
      "text/plain": [
       "Index(['talk_id', 'title', 'speaker', 'recorded_date', 'published_date',\n",
       "       'event', 'duration', 'views', 'likes'],\n",
       "      dtype='object')"
      ]
     },
     "execution_count": 7,
     "metadata": {},
     "output_type": "execute_result"
    }
   ],
   "source": [
    "tedtalk_df.columns"
   ]
  },
  {
   "cell_type": "markdown",
   "metadata": {},
   "source": [
    "This data has nine columns, including 'talk_id', 'title', 'speaker', etc. "
   ]
  },
  {
   "cell_type": "code",
   "execution_count": 8,
   "metadata": {},
   "outputs": [
    {
     "data": {
      "text/plain": [
       "talk_id            int64\n",
       "title             object\n",
       "speaker           object\n",
       "recorded_date     object\n",
       "published_date    object\n",
       "event             object\n",
       "duration           int64\n",
       "views              int64\n",
       "likes              int64\n",
       "dtype: object"
      ]
     },
     "execution_count": 8,
     "metadata": {},
     "output_type": "execute_result"
    }
   ],
   "source": [
    "tedtalk_df.dtypes"
   ]
  },
  {
   "cell_type": "markdown",
   "metadata": {},
   "source": [
    "Among the nine columns, \n",
    "'talk_id', 'duration', 'views', and 'likes' are integers,\n",
    "whereas 'title', 'speaker', 'recorded_date', 'published_date', and 'event' are objects. "
   ]
  },
  {
   "cell_type": "markdown",
   "metadata": {},
   "source": [
    "<h3> Accessing columns and rows of the data"
   ]
  },
  {
   "cell_type": "code",
   "execution_count": 9,
   "metadata": {},
   "outputs": [
    {
     "data": {
      "text/plain": [
       "0                          Averting the climate crisis\n",
       "1                                     Simplicity sells\n",
       "2                                  Greening the ghetto\n",
       "3                      The best stats you've ever seen\n",
       "4                          Do schools kill creativity?\n",
       "                             ...                      \n",
       "5696                         Is inequality inevitable?\n",
       "5697     4 ways to design a disability-friendly future\n",
       "5698    Can exercise actually \"boost\" your metabolism?\n",
       "5699     How did they build the Great Pyramid of Giza?\n",
       "5700    How to squeeze all the juice out of retirement\n",
       "Name: title, Length: 5701, dtype: object"
      ]
     },
     "execution_count": 9,
     "metadata": {},
     "output_type": "execute_result"
    }
   ],
   "source": [
    "title = tedtalk_df[\"title\"]\n",
    "title"
   ]
  },
  {
   "cell_type": "code",
   "execution_count": 10,
   "metadata": {},
   "outputs": [
    {
     "data": {
      "text/plain": [
       "0                          Averting the climate crisis\n",
       "1                                     Simplicity sells\n",
       "2                                  Greening the ghetto\n",
       "3                      The best stats you've ever seen\n",
       "4                          Do schools kill creativity?\n",
       "                             ...                      \n",
       "5696                         Is inequality inevitable?\n",
       "5697     4 ways to design a disability-friendly future\n",
       "5698    Can exercise actually \"boost\" your metabolism?\n",
       "5699     How did they build the Great Pyramid of Giza?\n",
       "5700    How to squeeze all the juice out of retirement\n",
       "Name: title, Length: 5701, dtype: object"
      ]
     },
     "execution_count": 10,
     "metadata": {},
     "output_type": "execute_result"
    }
   ],
   "source": [
    "title = tedtalk_df.title\n",
    "title"
   ]
  },
  {
   "cell_type": "markdown",
   "metadata": {},
   "source": [
    "I can access columns of the data in both ways. "
   ]
  },
  {
   "cell_type": "code",
   "execution_count": 11,
   "metadata": {},
   "outputs": [
    {
     "data": {
      "text/plain": [
       "talk_id                          86\n",
       "title             Letting go of God\n",
       "speaker               Julia Sweeney\n",
       "recorded_date            2006-02-24\n",
       "published_date           2006-07-10\n",
       "event                       TED2006\n",
       "duration                        978\n",
       "views                       4836214\n",
       "likes                        145000\n",
       "Name: 5, dtype: object"
      ]
     },
     "execution_count": 11,
     "metadata": {},
     "output_type": "execute_result"
    }
   ],
   "source": [
    "fifth_row = tedtalk_df.iloc[5]\n",
    "fifth_row"
   ]
  },
  {
   "cell_type": "code",
   "execution_count": 12,
   "metadata": {},
   "outputs": [
    {
     "data": {
      "text/html": [
       "<div>\n",
       "<style scoped>\n",
       "    .dataframe tbody tr th:only-of-type {\n",
       "        vertical-align: middle;\n",
       "    }\n",
       "\n",
       "    .dataframe tbody tr th {\n",
       "        vertical-align: top;\n",
       "    }\n",
       "\n",
       "    .dataframe thead th {\n",
       "        text-align: right;\n",
       "    }\n",
       "</style>\n",
       "<table border=\"1\" class=\"dataframe\">\n",
       "  <thead>\n",
       "    <tr style=\"text-align: right;\">\n",
       "      <th></th>\n",
       "      <th>talk_id</th>\n",
       "      <th>title</th>\n",
       "      <th>speaker</th>\n",
       "      <th>recorded_date</th>\n",
       "      <th>published_date</th>\n",
       "      <th>event</th>\n",
       "      <th>duration</th>\n",
       "      <th>views</th>\n",
       "      <th>likes</th>\n",
       "    </tr>\n",
       "  </thead>\n",
       "  <tbody>\n",
       "    <tr>\n",
       "      <th>2</th>\n",
       "      <td>53</td>\n",
       "      <td>Greening the ghetto</td>\n",
       "      <td>Majora Carter</td>\n",
       "      <td>2006-02-26</td>\n",
       "      <td>2006-06-27</td>\n",
       "      <td>TED2006</td>\n",
       "      <td>1096</td>\n",
       "      <td>3006315</td>\n",
       "      <td>90000</td>\n",
       "    </tr>\n",
       "    <tr>\n",
       "      <th>3</th>\n",
       "      <td>92</td>\n",
       "      <td>The best stats you've ever seen</td>\n",
       "      <td>Hans Rosling</td>\n",
       "      <td>2006-02-22</td>\n",
       "      <td>2006-06-27</td>\n",
       "      <td>TED2006</td>\n",
       "      <td>1176</td>\n",
       "      <td>15432904</td>\n",
       "      <td>462000</td>\n",
       "    </tr>\n",
       "    <tr>\n",
       "      <th>4</th>\n",
       "      <td>66</td>\n",
       "      <td>Do schools kill creativity?</td>\n",
       "      <td>Sir Ken Robinson</td>\n",
       "      <td>2006-02-25</td>\n",
       "      <td>2006-06-27</td>\n",
       "      <td>TED2006</td>\n",
       "      <td>1151</td>\n",
       "      <td>73935964</td>\n",
       "      <td>2200000</td>\n",
       "    </tr>\n",
       "  </tbody>\n",
       "</table>\n",
       "</div>"
      ],
      "text/plain": [
       "   talk_id                            title           speaker recorded_date  \\\n",
       "2       53              Greening the ghetto     Majora Carter    2006-02-26   \n",
       "3       92  The best stats you've ever seen      Hans Rosling    2006-02-22   \n",
       "4       66      Do schools kill creativity?  Sir Ken Robinson    2006-02-25   \n",
       "\n",
       "  published_date    event  duration     views    likes  \n",
       "2     2006-06-27  TED2006      1096   3006315    90000  \n",
       "3     2006-06-27  TED2006      1176  15432904   462000  \n",
       "4     2006-06-27  TED2006      1151  73935964  2200000  "
      ]
     },
     "execution_count": 12,
     "metadata": {},
     "output_type": "execute_result"
    }
   ],
   "source": [
    "tedtalk_df.iloc[2:5]"
   ]
  },
  {
   "cell_type": "markdown",
   "metadata": {},
   "source": [
    "I can access rows of the data in both ways. The second code shows slice indexing, which can be used when we want to access multiple rows."
   ]
  },
  {
   "cell_type": "code",
   "execution_count": 13,
   "metadata": {},
   "outputs": [
    {
     "data": {
      "text/html": [
       "<div>\n",
       "<style scoped>\n",
       "    .dataframe tbody tr th:only-of-type {\n",
       "        vertical-align: middle;\n",
       "    }\n",
       "\n",
       "    .dataframe tbody tr th {\n",
       "        vertical-align: top;\n",
       "    }\n",
       "\n",
       "    .dataframe thead th {\n",
       "        text-align: right;\n",
       "    }\n",
       "</style>\n",
       "<table border=\"1\" class=\"dataframe\">\n",
       "  <thead>\n",
       "    <tr style=\"text-align: right;\">\n",
       "      <th></th>\n",
       "      <th>speaker</th>\n",
       "      <th>recorded_date</th>\n",
       "      <th>published_date</th>\n",
       "    </tr>\n",
       "  </thead>\n",
       "  <tbody>\n",
       "    <tr>\n",
       "      <th>2</th>\n",
       "      <td>Majora Carter</td>\n",
       "      <td>2006-02-26</td>\n",
       "      <td>2006-06-27</td>\n",
       "    </tr>\n",
       "    <tr>\n",
       "      <th>3</th>\n",
       "      <td>Hans Rosling</td>\n",
       "      <td>2006-02-22</td>\n",
       "      <td>2006-06-27</td>\n",
       "    </tr>\n",
       "    <tr>\n",
       "      <th>4</th>\n",
       "      <td>Sir Ken Robinson</td>\n",
       "      <td>2006-02-25</td>\n",
       "      <td>2006-06-27</td>\n",
       "    </tr>\n",
       "  </tbody>\n",
       "</table>\n",
       "</div>"
      ],
      "text/plain": [
       "            speaker recorded_date published_date\n",
       "2     Majora Carter    2006-02-26     2006-06-27\n",
       "3      Hans Rosling    2006-02-22     2006-06-27\n",
       "4  Sir Ken Robinson    2006-02-25     2006-06-27"
      ]
     },
     "execution_count": 13,
     "metadata": {},
     "output_type": "execute_result"
    }
   ],
   "source": [
    "tedtalk_df.iloc[2:5, 2:5]"
   ]
  },
  {
   "cell_type": "markdown",
   "metadata": {},
   "source": [
    "Above shows how to access specific rows and columns of the data. "
   ]
  },
  {
   "cell_type": "markdown",
   "metadata": {},
   "source": [
    "<h3> Indexing the data"
   ]
  },
  {
   "cell_type": "code",
   "execution_count": 14,
   "metadata": {},
   "outputs": [
    {
     "data": {
      "text/html": [
       "<div>\n",
       "<style scoped>\n",
       "    .dataframe tbody tr th:only-of-type {\n",
       "        vertical-align: middle;\n",
       "    }\n",
       "\n",
       "    .dataframe tbody tr th {\n",
       "        vertical-align: top;\n",
       "    }\n",
       "\n",
       "    .dataframe thead th {\n",
       "        text-align: right;\n",
       "    }\n",
       "</style>\n",
       "<table border=\"1\" class=\"dataframe\">\n",
       "  <thead>\n",
       "    <tr style=\"text-align: right;\">\n",
       "      <th></th>\n",
       "      <th>talk_id</th>\n",
       "      <th>title</th>\n",
       "      <th>speaker</th>\n",
       "      <th>recorded_date</th>\n",
       "      <th>published_date</th>\n",
       "      <th>event</th>\n",
       "      <th>duration</th>\n",
       "      <th>views</th>\n",
       "      <th>likes</th>\n",
       "    </tr>\n",
       "  </thead>\n",
       "  <tbody>\n",
       "    <tr>\n",
       "      <th>46</th>\n",
       "      <td>26</td>\n",
       "      <td>If I controlled the Internet</td>\n",
       "      <td>Rives</td>\n",
       "      <td>2006-11-30</td>\n",
       "      <td>2006-12-14</td>\n",
       "      <td>TEDSalon 2006</td>\n",
       "      <td>227</td>\n",
       "      <td>2366391</td>\n",
       "      <td>70000</td>\n",
       "    </tr>\n",
       "    <tr>\n",
       "      <th>47</th>\n",
       "      <td>70</td>\n",
       "      <td>8 secrets of success</td>\n",
       "      <td>Richard St. John</td>\n",
       "      <td>2005-02-23</td>\n",
       "      <td>2006-12-14</td>\n",
       "      <td>TED2005</td>\n",
       "      <td>196</td>\n",
       "      <td>16355988</td>\n",
       "      <td>490000</td>\n",
       "    </tr>\n",
       "    <tr>\n",
       "      <th>48</th>\n",
       "      <td>10</td>\n",
       "      <td>The killer American diet that's sweeping the p...</td>\n",
       "      <td>Dean Ornish</td>\n",
       "      <td>2006-02-23</td>\n",
       "      <td>2006-12-14</td>\n",
       "      <td>TED2006</td>\n",
       "      <td>184</td>\n",
       "      <td>2861413</td>\n",
       "      <td>85000</td>\n",
       "    </tr>\n",
       "    <tr>\n",
       "      <th>128</th>\n",
       "      <td>153</td>\n",
       "      <td>How I built a windmill</td>\n",
       "      <td>William Kamkwamba</td>\n",
       "      <td>2007-06-05</td>\n",
       "      <td>2007-07-31</td>\n",
       "      <td>TEDGlobal 2007</td>\n",
       "      <td>238</td>\n",
       "      <td>3662156</td>\n",
       "      <td>109000</td>\n",
       "    </tr>\n",
       "    <tr>\n",
       "      <th>148</th>\n",
       "      <td>179</td>\n",
       "      <td>My magic moves</td>\n",
       "      <td>Kenichi Ebina</td>\n",
       "      <td>2007-03-03</td>\n",
       "      <td>2007-10-03</td>\n",
       "      <td>TED2007</td>\n",
       "      <td>198</td>\n",
       "      <td>1965139</td>\n",
       "      <td>58000</td>\n",
       "    </tr>\n",
       "    <tr>\n",
       "      <th>...</th>\n",
       "      <td>...</td>\n",
       "      <td>...</td>\n",
       "      <td>...</td>\n",
       "      <td>...</td>\n",
       "      <td>...</td>\n",
       "      <td>...</td>\n",
       "      <td>...</td>\n",
       "      <td>...</td>\n",
       "      <td>...</td>\n",
       "    </tr>\n",
       "    <tr>\n",
       "      <th>4893</th>\n",
       "      <td>24412</td>\n",
       "      <td>Why do we feel nostalgia?</td>\n",
       "      <td>Clay Routledge</td>\n",
       "      <td>2016-11-21</td>\n",
       "      <td>2020-12-03</td>\n",
       "      <td>TED-Ed</td>\n",
       "      <td>234</td>\n",
       "      <td>1763424</td>\n",
       "      <td>52000</td>\n",
       "    </tr>\n",
       "    <tr>\n",
       "      <th>5128</th>\n",
       "      <td>77628</td>\n",
       "      <td>Why do we have hair in such random places?</td>\n",
       "      <td>Nina G. Jablonski</td>\n",
       "      <td>2021-06-03</td>\n",
       "      <td>2021-06-03</td>\n",
       "      <td>TED-Ed</td>\n",
       "      <td>243</td>\n",
       "      <td>5023905</td>\n",
       "      <td>150000</td>\n",
       "    </tr>\n",
       "    <tr>\n",
       "      <th>5132</th>\n",
       "      <td>24088</td>\n",
       "      <td>What you might not know about the Declaration ...</td>\n",
       "      <td>Kenneth C. Davis</td>\n",
       "      <td>2014-07-01</td>\n",
       "      <td>2021-06-08</td>\n",
       "      <td>TED-Ed</td>\n",
       "      <td>203</td>\n",
       "      <td>3052136</td>\n",
       "      <td>91000</td>\n",
       "    </tr>\n",
       "    <tr>\n",
       "      <th>5165</th>\n",
       "      <td>24250</td>\n",
       "      <td>The ancient origins of the Olympics</td>\n",
       "      <td>Armand D'Angour</td>\n",
       "      <td>2015-09-03</td>\n",
       "      <td>2021-07-06</td>\n",
       "      <td>TED-Ed</td>\n",
       "      <td>184</td>\n",
       "      <td>3823047</td>\n",
       "      <td>114000</td>\n",
       "    </tr>\n",
       "    <tr>\n",
       "      <th>5224</th>\n",
       "      <td>81451</td>\n",
       "      <td>You could have a secret twin (but not the way ...</td>\n",
       "      <td>Kayla Mandel Sheets</td>\n",
       "      <td>2021-09-16</td>\n",
       "      <td>2021-09-16</td>\n",
       "      <td>TED-Ed</td>\n",
       "      <td>244</td>\n",
       "      <td>2193624</td>\n",
       "      <td>65000</td>\n",
       "    </tr>\n",
       "  </tbody>\n",
       "</table>\n",
       "<p>147 rows × 9 columns</p>\n",
       "</div>"
      ],
      "text/plain": [
       "      talk_id                                              title  \\\n",
       "46         26                       If I controlled the Internet   \n",
       "47         70                               8 secrets of success   \n",
       "48         10  The killer American diet that's sweeping the p...   \n",
       "128       153                             How I built a windmill   \n",
       "148       179                                     My magic moves   \n",
       "...       ...                                                ...   \n",
       "4893    24412                          Why do we feel nostalgia?   \n",
       "5128    77628         Why do we have hair in such random places?   \n",
       "5132    24088  What you might not know about the Declaration ...   \n",
       "5165    24250                The ancient origins of the Olympics   \n",
       "5224    81451  You could have a secret twin (but not the way ...   \n",
       "\n",
       "                  speaker recorded_date published_date           event  \\\n",
       "46                  Rives    2006-11-30     2006-12-14   TEDSalon 2006   \n",
       "47       Richard St. John    2005-02-23     2006-12-14         TED2005   \n",
       "48            Dean Ornish    2006-02-23     2006-12-14         TED2006   \n",
       "128     William Kamkwamba    2007-06-05     2007-07-31  TEDGlobal 2007   \n",
       "148         Kenichi Ebina    2007-03-03     2007-10-03         TED2007   \n",
       "...                   ...           ...            ...             ...   \n",
       "4893       Clay Routledge    2016-11-21     2020-12-03          TED-Ed   \n",
       "5128    Nina G. Jablonski    2021-06-03     2021-06-03          TED-Ed   \n",
       "5132     Kenneth C. Davis    2014-07-01     2021-06-08          TED-Ed   \n",
       "5165      Armand D'Angour    2015-09-03     2021-07-06          TED-Ed   \n",
       "5224  Kayla Mandel Sheets    2021-09-16     2021-09-16          TED-Ed   \n",
       "\n",
       "      duration     views   likes  \n",
       "46         227   2366391   70000  \n",
       "47         196  16355988  490000  \n",
       "48         184   2861413   85000  \n",
       "128        238   3662156  109000  \n",
       "148        198   1965139   58000  \n",
       "...        ...       ...     ...  \n",
       "4893       234   1763424   52000  \n",
       "5128       243   5023905  150000  \n",
       "5132       203   3052136   91000  \n",
       "5165       184   3823047  114000  \n",
       "5224       244   2193624   65000  \n",
       "\n",
       "[147 rows x 9 columns]"
      ]
     },
     "execution_count": 14,
     "metadata": {},
     "output_type": "execute_result"
    }
   ],
   "source": [
    "tedtalk_df[(tedtalk_df['likes'] > 50000) & (tedtalk_df['duration'] <= 250)]"
   ]
  },
  {
   "cell_type": "markdown",
   "metadata": {},
   "source": [
    "I indexed the data using two Boolean logical operations. \n",
    "\n",
    "Extracted rows are those where the 'likes' value is greater than 50,000 and its 'duration' value is less than or equal to 250. \n",
    "\n",
    "From the bottom left of the outcome, I can see that 147 rows meet the criteria."
   ]
  },
  {
   "cell_type": "markdown",
   "metadata": {},
   "source": [
    "<h3> Creating simple plots "
   ]
  },
  {
   "cell_type": "code",
   "execution_count": 15,
   "metadata": {},
   "outputs": [
    {
     "data": {
      "text/plain": [
       "<Axes: xlabel='speaker'>"
      ]
     },
     "execution_count": 15,
     "metadata": {},
     "output_type": "execute_result"
    },
    {
     "data": {
      "image/png": "[encoded data removed]",
      "text/plain": [
       "<Figure size 640x480 with 1 Axes>"
      ]
     },
     "metadata": {},
     "output_type": "display_data"
    }
   ],
   "source": [
    "tedtalk_cleared_df = tedtalk_df[(tedtalk_df['likes'] > 150000) & (tedtalk_df['duration'] <= 250)]\n",
    "tedtalk_cleared_df['speaker'].value_counts().plot(kind=\"bar\")"
   ]
  },
  {
   "cell_type": "markdown",
   "metadata": {},
   "source": [
    "I first cleaned my data by extracting rows where the 'likes' value is greater than 150,000 and the 'duration' value is less than or equal to 250. \n",
    "\n",
    "I named the resulting dataset 'tedtalk_cleaned_df.'\n",
    "\n",
    "Next, I plotted the counts of each 'speaker' to identify who has given the most TED Talks."
   ]
  },
  {
   "cell_type": "code",
   "execution_count": 16,
   "metadata": {},
   "outputs": [
    {
     "data": {
      "text/plain": [
       "<Axes: xlabel='published_date'>"
      ]
     },
     "execution_count": 16,
     "metadata": {},
     "output_type": "execute_result"
    },
    {
     "data": {
      "image/png": "[encoded data removed]",
      "text/plain": [
       "<Figure size 640x480 with 1 Axes>"
      ]
     },
     "metadata": {},
     "output_type": "display_data"
    }
   ],
   "source": [
    "tedtalk_cleaned_df2 = tedtalk_df[(tedtalk_df['likes'] > 170000) & (tedtalk_df['duration'] <= 250)]\n",
    "tedtalk_cleaned_df2.plot(x='published_date', y='likes', kind='line')\n"
   ]
  },
  {
   "cell_type": "markdown",
   "metadata": {},
   "source": [
    "Again, I first cleaned my data by extracting rows where the 'likes' value is greater than 170,000 and the 'duration' value is less than or equal to 250. \n",
    "\n",
    "I named the resulting dataset 'tedtalk_cleaned_df2.'\n",
    "\n",
    "Next, I plotted the relationship between 'published_date' and 'likes' to see the trend of 'likes'."
   ]
  },
  {
   "cell_type": "markdown",
   "metadata": {},
   "source": [
    "<h3> Using value_counts()"
   ]
  },
  {
   "cell_type": "code",
   "execution_count": 17,
   "metadata": {},
   "outputs": [
    {
     "data": {
      "text/plain": [
       "event\n",
       "TED-Ed               890\n",
       "TED2018              104\n",
       "TED2020              102\n",
       "TED2019              101\n",
       "TED2017               97\n",
       "                    ... \n",
       "TEDxEastEnd            1\n",
       "TEDActive 2015         1\n",
       "Global Witness         1\n",
       "TEDxCreativeCoast      1\n",
       "TEDxSurrey             1\n",
       "Name: count, Length: 637, dtype: int64"
      ]
     },
     "execution_count": 17,
     "metadata": {},
     "output_type": "execute_result"
    }
   ],
   "source": [
    "tedtalk_df.event.value_counts()"
   ]
  },
  {
   "cell_type": "markdown",
   "metadata": {},
   "source": [
    "Above shows the counts for each 'event' value in the data. "
   ]
  },
  {
   "cell_type": "code",
   "execution_count": 18,
   "metadata": {},
   "outputs": [
    {
     "data": {
      "text/plain": [
       "speaker\n",
       "Alex Gendler               47\n",
       "Iseult Gillespie           37\n",
       "Matt Walker                18\n",
       "Alex Rosenthal             15\n",
       "Elizabeth Cox              15\n",
       "                           ..\n",
       "Anote Tong                  1\n",
       "Genevieve von Petzinger     1\n",
       "Ann Morgan                  1\n",
       "Regina Hartley              1\n",
       "Riley Moynes                1\n",
       "Name: count, Length: 4637, dtype: int64"
      ]
     },
     "execution_count": 18,
     "metadata": {},
     "output_type": "execute_result"
    }
   ],
   "source": [
    "tedtalk_df.speaker.value_counts()"
   ]
  },
  {
   "cell_type": "markdown",
   "metadata": {},
   "source": [
    "Above shows the counts for each 'speaker' value in the data. "
   ]
  },
  {
   "cell_type": "markdown",
   "metadata": {},
   "source": [
    "<h3> Computing simple summary statistics "
   ]
  },
  {
   "cell_type": "code",
   "execution_count": 19,
   "metadata": {},
   "outputs": [
    {
     "data": {
      "text/plain": [
       "63861.54481669883"
      ]
     },
     "execution_count": 19,
     "metadata": {},
     "output_type": "execute_result"
    }
   ],
   "source": [
    "tedtalk_df.likes.mean()"
   ]
  },
  {
   "cell_type": "markdown",
   "metadata": {},
   "source": [
    "The mean of 'likes' of the data is about 63,861."
   ]
  },
  {
   "cell_type": "code",
   "execution_count": 20,
   "metadata": {},
   "outputs": [
    {
     "data": {
      "text/plain": [
       "20404"
      ]
     },
     "execution_count": 20,
     "metadata": {},
     "output_type": "execute_result"
    }
   ],
   "source": [
    "tedtalk_df.duration.max()"
   ]
  },
  {
   "cell_type": "markdown",
   "metadata": {},
   "source": [
    "The maximum value of 'duration' of the data is 20,404."
   ]
  },
  {
   "cell_type": "markdown",
   "metadata": {},
   "source": [
    "<h3> Sorting the data"
   ]
  },
  {
   "cell_type": "code",
   "execution_count": 21,
   "metadata": {},
   "outputs": [
    {
     "data": {
      "text/html": [
       "<div>\n",
       "<style scoped>\n",
       "    .dataframe tbody tr th:only-of-type {\n",
       "        vertical-align: middle;\n",
       "    }\n",
       "\n",
       "    .dataframe tbody tr th {\n",
       "        vertical-align: top;\n",
       "    }\n",
       "\n",
       "    .dataframe thead th {\n",
       "        text-align: right;\n",
       "    }\n",
       "</style>\n",
       "<table border=\"1\" class=\"dataframe\">\n",
       "  <thead>\n",
       "    <tr style=\"text-align: right;\">\n",
       "      <th></th>\n",
       "      <th>talk_id</th>\n",
       "      <th>title</th>\n",
       "      <th>speaker</th>\n",
       "      <th>recorded_date</th>\n",
       "      <th>published_date</th>\n",
       "      <th>event</th>\n",
       "      <th>duration</th>\n",
       "      <th>views</th>\n",
       "      <th>likes</th>\n",
       "    </tr>\n",
       "  </thead>\n",
       "  <tbody>\n",
       "    <tr>\n",
       "      <th>46</th>\n",
       "      <td>26</td>\n",
       "      <td>If I controlled the Internet</td>\n",
       "      <td>Rives</td>\n",
       "      <td>2006-11-30</td>\n",
       "      <td>2006-12-14</td>\n",
       "      <td>TEDSalon 2006</td>\n",
       "      <td>227</td>\n",
       "      <td>2366391</td>\n",
       "      <td>70000</td>\n",
       "    </tr>\n",
       "    <tr>\n",
       "      <th>48</th>\n",
       "      <td>10</td>\n",
       "      <td>The killer American diet that's sweeping the p...</td>\n",
       "      <td>Dean Ornish</td>\n",
       "      <td>2006-02-23</td>\n",
       "      <td>2006-12-14</td>\n",
       "      <td>TED2006</td>\n",
       "      <td>184</td>\n",
       "      <td>2861413</td>\n",
       "      <td>85000</td>\n",
       "    </tr>\n",
       "    <tr>\n",
       "      <th>47</th>\n",
       "      <td>70</td>\n",
       "      <td>8 secrets of success</td>\n",
       "      <td>Richard St. John</td>\n",
       "      <td>2005-02-23</td>\n",
       "      <td>2006-12-14</td>\n",
       "      <td>TED2005</td>\n",
       "      <td>196</td>\n",
       "      <td>16355988</td>\n",
       "      <td>490000</td>\n",
       "    </tr>\n",
       "    <tr>\n",
       "      <th>128</th>\n",
       "      <td>153</td>\n",
       "      <td>How I built a windmill</td>\n",
       "      <td>William Kamkwamba</td>\n",
       "      <td>2007-06-05</td>\n",
       "      <td>2007-07-31</td>\n",
       "      <td>TEDGlobal 2007</td>\n",
       "      <td>238</td>\n",
       "      <td>3662156</td>\n",
       "      <td>109000</td>\n",
       "    </tr>\n",
       "    <tr>\n",
       "      <th>148</th>\n",
       "      <td>179</td>\n",
       "      <td>My magic moves</td>\n",
       "      <td>Kenichi Ebina</td>\n",
       "      <td>2007-03-03</td>\n",
       "      <td>2007-10-03</td>\n",
       "      <td>TED2007</td>\n",
       "      <td>198</td>\n",
       "      <td>1965139</td>\n",
       "      <td>58000</td>\n",
       "    </tr>\n",
       "    <tr>\n",
       "      <th>...</th>\n",
       "      <td>...</td>\n",
       "      <td>...</td>\n",
       "      <td>...</td>\n",
       "      <td>...</td>\n",
       "      <td>...</td>\n",
       "      <td>...</td>\n",
       "      <td>...</td>\n",
       "      <td>...</td>\n",
       "      <td>...</td>\n",
       "    </tr>\n",
       "    <tr>\n",
       "      <th>4893</th>\n",
       "      <td>24412</td>\n",
       "      <td>Why do we feel nostalgia?</td>\n",
       "      <td>Clay Routledge</td>\n",
       "      <td>2016-11-21</td>\n",
       "      <td>2020-12-03</td>\n",
       "      <td>TED-Ed</td>\n",
       "      <td>234</td>\n",
       "      <td>1763424</td>\n",
       "      <td>52000</td>\n",
       "    </tr>\n",
       "    <tr>\n",
       "      <th>5128</th>\n",
       "      <td>77628</td>\n",
       "      <td>Why do we have hair in such random places?</td>\n",
       "      <td>Nina G. Jablonski</td>\n",
       "      <td>2021-06-03</td>\n",
       "      <td>2021-06-03</td>\n",
       "      <td>TED-Ed</td>\n",
       "      <td>243</td>\n",
       "      <td>5023905</td>\n",
       "      <td>150000</td>\n",
       "    </tr>\n",
       "    <tr>\n",
       "      <th>5132</th>\n",
       "      <td>24088</td>\n",
       "      <td>What you might not know about the Declaration ...</td>\n",
       "      <td>Kenneth C. Davis</td>\n",
       "      <td>2014-07-01</td>\n",
       "      <td>2021-06-08</td>\n",
       "      <td>TED-Ed</td>\n",
       "      <td>203</td>\n",
       "      <td>3052136</td>\n",
       "      <td>91000</td>\n",
       "    </tr>\n",
       "    <tr>\n",
       "      <th>5165</th>\n",
       "      <td>24250</td>\n",
       "      <td>The ancient origins of the Olympics</td>\n",
       "      <td>Armand D'Angour</td>\n",
       "      <td>2015-09-03</td>\n",
       "      <td>2021-07-06</td>\n",
       "      <td>TED-Ed</td>\n",
       "      <td>184</td>\n",
       "      <td>3823047</td>\n",
       "      <td>114000</td>\n",
       "    </tr>\n",
       "    <tr>\n",
       "      <th>5224</th>\n",
       "      <td>81451</td>\n",
       "      <td>You could have a secret twin (but not the way ...</td>\n",
       "      <td>Kayla Mandel Sheets</td>\n",
       "      <td>2021-09-16</td>\n",
       "      <td>2021-09-16</td>\n",
       "      <td>TED-Ed</td>\n",
       "      <td>244</td>\n",
       "      <td>2193624</td>\n",
       "      <td>65000</td>\n",
       "    </tr>\n",
       "  </tbody>\n",
       "</table>\n",
       "<p>147 rows × 9 columns</p>\n",
       "</div>"
      ],
      "text/plain": [
       "      talk_id                                              title  \\\n",
       "46         26                       If I controlled the Internet   \n",
       "48         10  The killer American diet that's sweeping the p...   \n",
       "47         70                               8 secrets of success   \n",
       "128       153                             How I built a windmill   \n",
       "148       179                                     My magic moves   \n",
       "...       ...                                                ...   \n",
       "4893    24412                          Why do we feel nostalgia?   \n",
       "5128    77628         Why do we have hair in such random places?   \n",
       "5132    24088  What you might not know about the Declaration ...   \n",
       "5165    24250                The ancient origins of the Olympics   \n",
       "5224    81451  You could have a secret twin (but not the way ...   \n",
       "\n",
       "                  speaker recorded_date published_date           event  \\\n",
       "46                  Rives    2006-11-30     2006-12-14   TEDSalon 2006   \n",
       "48            Dean Ornish    2006-02-23     2006-12-14         TED2006   \n",
       "47       Richard St. John    2005-02-23     2006-12-14         TED2005   \n",
       "128     William Kamkwamba    2007-06-05     2007-07-31  TEDGlobal 2007   \n",
       "148         Kenichi Ebina    2007-03-03     2007-10-03         TED2007   \n",
       "...                   ...           ...            ...             ...   \n",
       "4893       Clay Routledge    2016-11-21     2020-12-03          TED-Ed   \n",
       "5128    Nina G. Jablonski    2021-06-03     2021-06-03          TED-Ed   \n",
       "5132     Kenneth C. Davis    2014-07-01     2021-06-08          TED-Ed   \n",
       "5165      Armand D'Angour    2015-09-03     2021-07-06          TED-Ed   \n",
       "5224  Kayla Mandel Sheets    2021-09-16     2021-09-16          TED-Ed   \n",
       "\n",
       "      duration     views   likes  \n",
       "46         227   2366391   70000  \n",
       "48         184   2861413   85000  \n",
       "47         196  16355988  490000  \n",
       "128        238   3662156  109000  \n",
       "148        198   1965139   58000  \n",
       "...        ...       ...     ...  \n",
       "4893       234   1763424   52000  \n",
       "5128       243   5023905  150000  \n",
       "5132       203   3052136   91000  \n",
       "5165       184   3823047  114000  \n",
       "5224       244   2193624   65000  \n",
       "\n",
       "[147 rows x 9 columns]"
      ]
     },
     "execution_count": 21,
     "metadata": {},
     "output_type": "execute_result"
    }
   ],
   "source": [
    "tedtalk_cleaned_df3 = tedtalk_df[(tedtalk_df['likes'] > 50000) & (tedtalk_df['duration'] <= 250)]\n",
    "tedtalk_cleaned_df3 = tedtalk_cleaned_df3.sort_values(by=[\"published_date\",\"views\"])\n",
    "tedtalk_cleaned_df3"
   ]
  },
  {
   "cell_type": "markdown",
   "metadata": {},
   "source": [
    "First, I cleaned my data by extracting rows where the 'likes' value is greater than 50,000 and the 'duration' value is less than or equal to 250. \n",
    "\n",
    "Then, I sorted this data by 'published_date' and 'views'."
   ]
  },
  {
   "cell_type": "markdown",
   "metadata": {},
   "source": [
    "<h3> Applying transformations"
   ]
  },
  {
   "cell_type": "code",
   "execution_count": 22,
   "metadata": {},
   "outputs": [
    {
     "data": {
      "text/html": [
       "<div>\n",
       "<style scoped>\n",
       "    .dataframe tbody tr th:only-of-type {\n",
       "        vertical-align: middle;\n",
       "    }\n",
       "\n",
       "    .dataframe tbody tr th {\n",
       "        vertical-align: top;\n",
       "    }\n",
       "\n",
       "    .dataframe thead th {\n",
       "        text-align: right;\n",
       "    }\n",
       "</style>\n",
       "<table border=\"1\" class=\"dataframe\">\n",
       "  <thead>\n",
       "    <tr style=\"text-align: right;\">\n",
       "      <th></th>\n",
       "      <th>talk_id</th>\n",
       "      <th>title</th>\n",
       "      <th>speaker</th>\n",
       "      <th>recorded_date</th>\n",
       "      <th>published_date</th>\n",
       "      <th>event</th>\n",
       "      <th>duration</th>\n",
       "      <th>views</th>\n",
       "      <th>likes</th>\n",
       "      <th>published_year</th>\n",
       "    </tr>\n",
       "  </thead>\n",
       "  <tbody>\n",
       "    <tr>\n",
       "      <th>46</th>\n",
       "      <td>26</td>\n",
       "      <td>If I controlled the Internet</td>\n",
       "      <td>Rives</td>\n",
       "      <td>2006-11-30</td>\n",
       "      <td>2006-12-14</td>\n",
       "      <td>TEDSalon 2006</td>\n",
       "      <td>227</td>\n",
       "      <td>2366391</td>\n",
       "      <td>70000</td>\n",
       "      <td>2006</td>\n",
       "    </tr>\n",
       "    <tr>\n",
       "      <th>48</th>\n",
       "      <td>10</td>\n",
       "      <td>The killer American diet that's sweeping the p...</td>\n",
       "      <td>Dean Ornish</td>\n",
       "      <td>2006-02-23</td>\n",
       "      <td>2006-12-14</td>\n",
       "      <td>TED2006</td>\n",
       "      <td>184</td>\n",
       "      <td>2861413</td>\n",
       "      <td>85000</td>\n",
       "      <td>2006</td>\n",
       "    </tr>\n",
       "    <tr>\n",
       "      <th>47</th>\n",
       "      <td>70</td>\n",
       "      <td>8 secrets of success</td>\n",
       "      <td>Richard St. John</td>\n",
       "      <td>2005-02-23</td>\n",
       "      <td>2006-12-14</td>\n",
       "      <td>TED2005</td>\n",
       "      <td>196</td>\n",
       "      <td>16355988</td>\n",
       "      <td>490000</td>\n",
       "      <td>2006</td>\n",
       "    </tr>\n",
       "    <tr>\n",
       "      <th>128</th>\n",
       "      <td>153</td>\n",
       "      <td>How I built a windmill</td>\n",
       "      <td>William Kamkwamba</td>\n",
       "      <td>2007-06-05</td>\n",
       "      <td>2007-07-31</td>\n",
       "      <td>TEDGlobal 2007</td>\n",
       "      <td>238</td>\n",
       "      <td>3662156</td>\n",
       "      <td>109000</td>\n",
       "      <td>2007</td>\n",
       "    </tr>\n",
       "    <tr>\n",
       "      <th>148</th>\n",
       "      <td>179</td>\n",
       "      <td>My magic moves</td>\n",
       "      <td>Kenichi Ebina</td>\n",
       "      <td>2007-03-03</td>\n",
       "      <td>2007-10-03</td>\n",
       "      <td>TED2007</td>\n",
       "      <td>198</td>\n",
       "      <td>1965139</td>\n",
       "      <td>58000</td>\n",
       "      <td>2007</td>\n",
       "    </tr>\n",
       "  </tbody>\n",
       "</table>\n",
       "</div>"
      ],
      "text/plain": [
       "     talk_id                                              title  \\\n",
       "46        26                       If I controlled the Internet   \n",
       "48        10  The killer American diet that's sweeping the p...   \n",
       "47        70                               8 secrets of success   \n",
       "128      153                             How I built a windmill   \n",
       "148      179                                     My magic moves   \n",
       "\n",
       "               speaker recorded_date published_date           event  duration  \\\n",
       "46               Rives    2006-11-30     2006-12-14   TEDSalon 2006       227   \n",
       "48         Dean Ornish    2006-02-23     2006-12-14         TED2006       184   \n",
       "47    Richard St. John    2005-02-23     2006-12-14         TED2005       196   \n",
       "128  William Kamkwamba    2007-06-05     2007-07-31  TEDGlobal 2007       238   \n",
       "148      Kenichi Ebina    2007-03-03     2007-10-03         TED2007       198   \n",
       "\n",
       "        views   likes published_year  \n",
       "46    2366391   70000           2006  \n",
       "48    2861413   85000           2006  \n",
       "47   16355988  490000           2006  \n",
       "128   3662156  109000           2007  \n",
       "148   1965139   58000           2007  "
      ]
     },
     "execution_count": 22,
     "metadata": {},
     "output_type": "execute_result"
    }
   ],
   "source": [
    "tedtalk_cleaned_df3[\"published_year\"] = tedtalk_cleaned_df3.published_date.apply(lambda x: x[0:4])\n",
    "tedtalk_cleaned_df3.head()"
   ]
  },
  {
   "cell_type": "markdown",
   "metadata": {},
   "source": [
    "I created a new column called 'published_year' by applying transformations to the data.\n",
    "\n",
    "Based on the 'published_date' column, I extracted the first four letters, which indicate the year, and set it as 'published_year'."
   ]
  },
  {
   "cell_type": "markdown",
   "metadata": {},
   "source": [
    "<h3> Investigating missing data"
   ]
  },
  {
   "cell_type": "code",
   "execution_count": 23,
   "metadata": {},
   "outputs": [
    {
     "data": {
      "text/plain": [
       "talk_id           False\n",
       "title             False\n",
       "speaker           False\n",
       "recorded_date     False\n",
       "published_date    False\n",
       "event             False\n",
       "duration          False\n",
       "views             False\n",
       "likes             False\n",
       "published_year    False\n",
       "dtype: bool"
      ]
     },
     "execution_count": 23,
     "metadata": {},
     "output_type": "execute_result"
    }
   ],
   "source": [
    "tedtalk_cleaned_df3.isna().any()"
   ]
  },
  {
   "cell_type": "markdown",
   "metadata": {},
   "source": [
    "Above result shows that there are no columns that has missing values. "
   ]
  },
  {
   "cell_type": "markdown",
   "metadata": {},
   "source": [
    "<h3> Creating a new column"
   ]
  },
  {
   "cell_type": "code",
   "execution_count": 24,
   "metadata": {},
   "outputs": [
    {
     "data": {
      "text/html": [
       "<div>\n",
       "<style scoped>\n",
       "    .dataframe tbody tr th:only-of-type {\n",
       "        vertical-align: middle;\n",
       "    }\n",
       "\n",
       "    .dataframe tbody tr th {\n",
       "        vertical-align: top;\n",
       "    }\n",
       "\n",
       "    .dataframe thead th {\n",
       "        text-align: right;\n",
       "    }\n",
       "</style>\n",
       "<table border=\"1\" class=\"dataframe\">\n",
       "  <thead>\n",
       "    <tr style=\"text-align: right;\">\n",
       "      <th></th>\n",
       "      <th>talk_id</th>\n",
       "      <th>title</th>\n",
       "      <th>speaker</th>\n",
       "      <th>recorded_date</th>\n",
       "      <th>published_date</th>\n",
       "      <th>event</th>\n",
       "      <th>duration</th>\n",
       "      <th>views</th>\n",
       "      <th>likes</th>\n",
       "      <th>published_year</th>\n",
       "      <th>recorded_year</th>\n",
       "    </tr>\n",
       "  </thead>\n",
       "  <tbody>\n",
       "    <tr>\n",
       "      <th>46</th>\n",
       "      <td>26</td>\n",
       "      <td>If I controlled the Internet</td>\n",
       "      <td>Rives</td>\n",
       "      <td>2006-11-30</td>\n",
       "      <td>2006-12-14</td>\n",
       "      <td>TEDSalon 2006</td>\n",
       "      <td>227</td>\n",
       "      <td>2366391</td>\n",
       "      <td>70000</td>\n",
       "      <td>2006</td>\n",
       "      <td>2006</td>\n",
       "    </tr>\n",
       "    <tr>\n",
       "      <th>48</th>\n",
       "      <td>10</td>\n",
       "      <td>The killer American diet that's sweeping the p...</td>\n",
       "      <td>Dean Ornish</td>\n",
       "      <td>2006-02-23</td>\n",
       "      <td>2006-12-14</td>\n",
       "      <td>TED2006</td>\n",
       "      <td>184</td>\n",
       "      <td>2861413</td>\n",
       "      <td>85000</td>\n",
       "      <td>2006</td>\n",
       "      <td>2006</td>\n",
       "    </tr>\n",
       "    <tr>\n",
       "      <th>47</th>\n",
       "      <td>70</td>\n",
       "      <td>8 secrets of success</td>\n",
       "      <td>Richard St. John</td>\n",
       "      <td>2005-02-23</td>\n",
       "      <td>2006-12-14</td>\n",
       "      <td>TED2005</td>\n",
       "      <td>196</td>\n",
       "      <td>16355988</td>\n",
       "      <td>490000</td>\n",
       "      <td>2006</td>\n",
       "      <td>2005</td>\n",
       "    </tr>\n",
       "    <tr>\n",
       "      <th>128</th>\n",
       "      <td>153</td>\n",
       "      <td>How I built a windmill</td>\n",
       "      <td>William Kamkwamba</td>\n",
       "      <td>2007-06-05</td>\n",
       "      <td>2007-07-31</td>\n",
       "      <td>TEDGlobal 2007</td>\n",
       "      <td>238</td>\n",
       "      <td>3662156</td>\n",
       "      <td>109000</td>\n",
       "      <td>2007</td>\n",
       "      <td>2007</td>\n",
       "    </tr>\n",
       "    <tr>\n",
       "      <th>148</th>\n",
       "      <td>179</td>\n",
       "      <td>My magic moves</td>\n",
       "      <td>Kenichi Ebina</td>\n",
       "      <td>2007-03-03</td>\n",
       "      <td>2007-10-03</td>\n",
       "      <td>TED2007</td>\n",
       "      <td>198</td>\n",
       "      <td>1965139</td>\n",
       "      <td>58000</td>\n",
       "      <td>2007</td>\n",
       "      <td>2007</td>\n",
       "    </tr>\n",
       "  </tbody>\n",
       "</table>\n",
       "</div>"
      ],
      "text/plain": [
       "     talk_id                                              title  \\\n",
       "46        26                       If I controlled the Internet   \n",
       "48        10  The killer American diet that's sweeping the p...   \n",
       "47        70                               8 secrets of success   \n",
       "128      153                             How I built a windmill   \n",
       "148      179                                     My magic moves   \n",
       "\n",
       "               speaker recorded_date published_date           event  duration  \\\n",
       "46               Rives    2006-11-30     2006-12-14   TEDSalon 2006       227   \n",
       "48         Dean Ornish    2006-02-23     2006-12-14         TED2006       184   \n",
       "47    Richard St. John    2005-02-23     2006-12-14         TED2005       196   \n",
       "128  William Kamkwamba    2007-06-05     2007-07-31  TEDGlobal 2007       238   \n",
       "148      Kenichi Ebina    2007-03-03     2007-10-03         TED2007       198   \n",
       "\n",
       "        views   likes published_year recorded_year  \n",
       "46    2366391   70000           2006          2006  \n",
       "48    2861413   85000           2006          2006  \n",
       "47   16355988  490000           2006          2005  \n",
       "128   3662156  109000           2007          2007  \n",
       "148   1965139   58000           2007          2007  "
      ]
     },
     "execution_count": 24,
     "metadata": {},
     "output_type": "execute_result"
    }
   ],
   "source": [
    "tedtalk_cleaned_df3[\"recorded_year\"] = tedtalk_cleaned_df3.recorded_date.apply(lambda x: x[0:4])\n",
    "tedtalk_cleaned_df3.head()"
   ]
  },
  {
   "cell_type": "markdown",
   "metadata": {},
   "source": [
    "Similar to the above, I created a new column called 'recorded_year' by extracting the first four letters of 'recorded_date'."
   ]
  },
  {
   "cell_type": "markdown",
   "metadata": {},
   "source": [
    "<h3> Changing column names"
   ]
  },
  {
   "cell_type": "code",
   "execution_count": 25,
   "metadata": {},
   "outputs": [
    {
     "data": {
      "text/html": [
       "<div>\n",
       "<style scoped>\n",
       "    .dataframe tbody tr th:only-of-type {\n",
       "        vertical-align: middle;\n",
       "    }\n",
       "\n",
       "    .dataframe tbody tr th {\n",
       "        vertical-align: top;\n",
       "    }\n",
       "\n",
       "    .dataframe thead th {\n",
       "        text-align: right;\n",
       "    }\n",
       "</style>\n",
       "<table border=\"1\" class=\"dataframe\">\n",
       "  <thead>\n",
       "    <tr style=\"text-align: right;\">\n",
       "      <th></th>\n",
       "      <th>Title</th>\n",
       "      <th>Speaker</th>\n",
       "      <th>Event</th>\n",
       "      <th>Published_Year</th>\n",
       "      <th>Views</th>\n",
       "    </tr>\n",
       "  </thead>\n",
       "  <tbody>\n",
       "    <tr>\n",
       "      <th>4893</th>\n",
       "      <td>Why do we feel nostalgia?</td>\n",
       "      <td>Clay Routledge</td>\n",
       "      <td>TED-Ed</td>\n",
       "      <td>2020</td>\n",
       "      <td>1763424</td>\n",
       "    </tr>\n",
       "    <tr>\n",
       "      <th>5128</th>\n",
       "      <td>Why do we have hair in such random places?</td>\n",
       "      <td>Nina G. Jablonski</td>\n",
       "      <td>TED-Ed</td>\n",
       "      <td>2021</td>\n",
       "      <td>5023905</td>\n",
       "    </tr>\n",
       "    <tr>\n",
       "      <th>5132</th>\n",
       "      <td>What you might not know about the Declaration ...</td>\n",
       "      <td>Kenneth C. Davis</td>\n",
       "      <td>TED-Ed</td>\n",
       "      <td>2021</td>\n",
       "      <td>3052136</td>\n",
       "    </tr>\n",
       "    <tr>\n",
       "      <th>5165</th>\n",
       "      <td>The ancient origins of the Olympics</td>\n",
       "      <td>Armand D'Angour</td>\n",
       "      <td>TED-Ed</td>\n",
       "      <td>2021</td>\n",
       "      <td>3823047</td>\n",
       "    </tr>\n",
       "    <tr>\n",
       "      <th>5224</th>\n",
       "      <td>You could have a secret twin (but not the way ...</td>\n",
       "      <td>Kayla Mandel Sheets</td>\n",
       "      <td>TED-Ed</td>\n",
       "      <td>2021</td>\n",
       "      <td>2193624</td>\n",
       "    </tr>\n",
       "  </tbody>\n",
       "</table>\n",
       "</div>"
      ],
      "text/plain": [
       "                                                  Title              Speaker  \\\n",
       "4893                          Why do we feel nostalgia?       Clay Routledge   \n",
       "5128         Why do we have hair in such random places?    Nina G. Jablonski   \n",
       "5132  What you might not know about the Declaration ...     Kenneth C. Davis   \n",
       "5165                The ancient origins of the Olympics      Armand D'Angour   \n",
       "5224  You could have a secret twin (but not the way ...  Kayla Mandel Sheets   \n",
       "\n",
       "       Event Published_Year    Views  \n",
       "4893  TED-Ed           2020  1763424  \n",
       "5128  TED-Ed           2021  5023905  \n",
       "5132  TED-Ed           2021  3052136  \n",
       "5165  TED-Ed           2021  3823047  \n",
       "5224  TED-Ed           2021  2193624  "
      ]
     },
     "execution_count": 25,
     "metadata": {},
     "output_type": "execute_result"
    }
   ],
   "source": [
    "tedtalk_cleaned_df4 = tedtalk_cleaned_df3[[\"title\", \"speaker\", \"event\", \"published_year\", \"views\"]]\n",
    "tedtalk_cleaned_df4.columns = ['Title', 'Speaker', 'Event', \"Published_Year\", 'Views']\n",
    "tedtalk_cleaned_df4.tail()"
   ]
  },
  {
   "cell_type": "markdown",
   "metadata": {},
   "source": [
    "I first cleaned by data by extracting only five columns that I think is the most relevant.\n",
    "\n",
    "Then, I revised the column names, mainly by changing its first letter to uppercase."
   ]
  },
  {
   "cell_type": "markdown",
   "metadata": {},
   "source": [
    "<h3> Creating new data frames"
   ]
  },
  {
   "cell_type": "code",
   "execution_count": 26,
   "metadata": {},
   "outputs": [
    {
     "data": {
      "text/html": [
       "<div>\n",
       "<style scoped>\n",
       "    .dataframe tbody tr th:only-of-type {\n",
       "        vertical-align: middle;\n",
       "    }\n",
       "\n",
       "    .dataframe tbody tr th {\n",
       "        vertical-align: top;\n",
       "    }\n",
       "\n",
       "    .dataframe thead th {\n",
       "        text-align: right;\n",
       "    }\n",
       "</style>\n",
       "<table border=\"1\" class=\"dataframe\">\n",
       "  <thead>\n",
       "    <tr style=\"text-align: right;\">\n",
       "      <th></th>\n",
       "      <th>Title</th>\n",
       "      <th>Speaker</th>\n",
       "      <th>Event</th>\n",
       "      <th>Published_Year</th>\n",
       "      <th>Views</th>\n",
       "    </tr>\n",
       "  </thead>\n",
       "  <tbody>\n",
       "    <tr>\n",
       "      <th>46</th>\n",
       "      <td>If I controlled the Internet</td>\n",
       "      <td>Rives</td>\n",
       "      <td>TEDSalon 2006</td>\n",
       "      <td>2006</td>\n",
       "      <td>2366391</td>\n",
       "    </tr>\n",
       "    <tr>\n",
       "      <th>48</th>\n",
       "      <td>The killer American diet that's sweeping the p...</td>\n",
       "      <td>Dean Ornish</td>\n",
       "      <td>TED2006</td>\n",
       "      <td>2006</td>\n",
       "      <td>2861413</td>\n",
       "    </tr>\n",
       "    <tr>\n",
       "      <th>47</th>\n",
       "      <td>8 secrets of success</td>\n",
       "      <td>Richard St. John</td>\n",
       "      <td>TED2005</td>\n",
       "      <td>2006</td>\n",
       "      <td>16355988</td>\n",
       "    </tr>\n",
       "    <tr>\n",
       "      <th>128</th>\n",
       "      <td>How I built a windmill</td>\n",
       "      <td>William Kamkwamba</td>\n",
       "      <td>TEDGlobal 2007</td>\n",
       "      <td>2007</td>\n",
       "      <td>3662156</td>\n",
       "    </tr>\n",
       "    <tr>\n",
       "      <th>148</th>\n",
       "      <td>My magic moves</td>\n",
       "      <td>Kenichi Ebina</td>\n",
       "      <td>TED2007</td>\n",
       "      <td>2007</td>\n",
       "      <td>1965139</td>\n",
       "    </tr>\n",
       "    <tr>\n",
       "      <th>...</th>\n",
       "      <td>...</td>\n",
       "      <td>...</td>\n",
       "      <td>...</td>\n",
       "      <td>...</td>\n",
       "      <td>...</td>\n",
       "    </tr>\n",
       "    <tr>\n",
       "      <th>4893</th>\n",
       "      <td>Why do we feel nostalgia?</td>\n",
       "      <td>Clay Routledge</td>\n",
       "      <td>TED-Ed</td>\n",
       "      <td>2020</td>\n",
       "      <td>1763424</td>\n",
       "    </tr>\n",
       "    <tr>\n",
       "      <th>5128</th>\n",
       "      <td>Why do we have hair in such random places?</td>\n",
       "      <td>Nina G. Jablonski</td>\n",
       "      <td>TED-Ed</td>\n",
       "      <td>2021</td>\n",
       "      <td>5023905</td>\n",
       "    </tr>\n",
       "    <tr>\n",
       "      <th>5132</th>\n",
       "      <td>What you might not know about the Declaration ...</td>\n",
       "      <td>Kenneth C. Davis</td>\n",
       "      <td>TED-Ed</td>\n",
       "      <td>2021</td>\n",
       "      <td>3052136</td>\n",
       "    </tr>\n",
       "    <tr>\n",
       "      <th>5165</th>\n",
       "      <td>The ancient origins of the Olympics</td>\n",
       "      <td>Armand D'Angour</td>\n",
       "      <td>TED-Ed</td>\n",
       "      <td>2021</td>\n",
       "      <td>3823047</td>\n",
       "    </tr>\n",
       "    <tr>\n",
       "      <th>5224</th>\n",
       "      <td>You could have a secret twin (but not the way ...</td>\n",
       "      <td>Kayla Mandel Sheets</td>\n",
       "      <td>TED-Ed</td>\n",
       "      <td>2021</td>\n",
       "      <td>2193624</td>\n",
       "    </tr>\n",
       "  </tbody>\n",
       "</table>\n",
       "<p>147 rows × 5 columns</p>\n",
       "</div>"
      ],
      "text/plain": [
       "                                                  Title              Speaker  \\\n",
       "46                         If I controlled the Internet                Rives   \n",
       "48    The killer American diet that's sweeping the p...          Dean Ornish   \n",
       "47                                 8 secrets of success     Richard St. John   \n",
       "128                              How I built a windmill    William Kamkwamba   \n",
       "148                                      My magic moves        Kenichi Ebina   \n",
       "...                                                 ...                  ...   \n",
       "4893                          Why do we feel nostalgia?       Clay Routledge   \n",
       "5128         Why do we have hair in such random places?    Nina G. Jablonski   \n",
       "5132  What you might not know about the Declaration ...     Kenneth C. Davis   \n",
       "5165                The ancient origins of the Olympics      Armand D'Angour   \n",
       "5224  You could have a secret twin (but not the way ...  Kayla Mandel Sheets   \n",
       "\n",
       "               Event Published_Year     Views  \n",
       "46     TEDSalon 2006           2006   2366391  \n",
       "48           TED2006           2006   2861413  \n",
       "47           TED2005           2006  16355988  \n",
       "128   TEDGlobal 2007           2007   3662156  \n",
       "148          TED2007           2007   1965139  \n",
       "...              ...            ...       ...  \n",
       "4893          TED-Ed           2020   1763424  \n",
       "5128          TED-Ed           2021   5023905  \n",
       "5132          TED-Ed           2021   3052136  \n",
       "5165          TED-Ed           2021   3823047  \n",
       "5224          TED-Ed           2021   2193624  \n",
       "\n",
       "[147 rows x 5 columns]"
      ]
     },
     "execution_count": 26,
     "metadata": {},
     "output_type": "execute_result"
    }
   ],
   "source": [
    "tedtalk_onemil = tedtalk_cleaned_df4.loc[tedtalk_cleaned_df4['Views'] > 1000000]\n",
    "tedtalk_onemil"
   ]
  },
  {
   "cell_type": "markdown",
   "metadata": {},
   "source": [
    "I created a new data frame called 'tedtalk_onemil', that only contains more than one million views from tedtalk_cleaned_df4."
   ]
  },
  {
   "cell_type": "markdown",
   "metadata": {},
   "source": [
    "<h3> Concatenating data frames "
   ]
  },
  {
   "cell_type": "code",
   "execution_count": 27,
   "metadata": {},
   "outputs": [
    {
     "data": {
      "text/html": [
       "<div>\n",
       "<style scoped>\n",
       "    .dataframe tbody tr th:only-of-type {\n",
       "        vertical-align: middle;\n",
       "    }\n",
       "\n",
       "    .dataframe tbody tr th {\n",
       "        vertical-align: top;\n",
       "    }\n",
       "\n",
       "    .dataframe thead th {\n",
       "        text-align: right;\n",
       "    }\n",
       "</style>\n",
       "<table border=\"1\" class=\"dataframe\">\n",
       "  <thead>\n",
       "    <tr style=\"text-align: right;\">\n",
       "      <th></th>\n",
       "      <th>Title</th>\n",
       "      <th>Speaker</th>\n",
       "      <th>Views</th>\n",
       "    </tr>\n",
       "  </thead>\n",
       "  <tbody>\n",
       "    <tr>\n",
       "      <th>128</th>\n",
       "      <td>How I built a windmill</td>\n",
       "      <td>NaN</td>\n",
       "      <td>NaN</td>\n",
       "    </tr>\n",
       "    <tr>\n",
       "      <th>148</th>\n",
       "      <td>My magic moves</td>\n",
       "      <td>Kenichi Ebina</td>\n",
       "      <td>1965139.0</td>\n",
       "    </tr>\n",
       "    <tr>\n",
       "      <th>206</th>\n",
       "      <td>A look inside the brain in real time</td>\n",
       "      <td>Christopher deCharms</td>\n",
       "      <td>2091165.0</td>\n",
       "    </tr>\n",
       "    <tr>\n",
       "      <th>227</th>\n",
       "      <td>NaN</td>\n",
       "      <td>Alisa Miller</td>\n",
       "      <td>2315262.0</td>\n",
       "    </tr>\n",
       "    <tr>\n",
       "      <th>241</th>\n",
       "      <td>NaN</td>\n",
       "      <td>Dean Ornish</td>\n",
       "      <td>1884859.0</td>\n",
       "    </tr>\n",
       "  </tbody>\n",
       "</table>\n",
       "</div>"
      ],
      "text/plain": [
       "                                    Title               Speaker      Views\n",
       "128                How I built a windmill                   NaN        NaN\n",
       "148                        My magic moves         Kenichi Ebina  1965139.0\n",
       "206  A look inside the brain in real time  Christopher deCharms  2091165.0\n",
       "227                                   NaN          Alisa Miller  2315262.0\n",
       "241                                   NaN           Dean Ornish  1884859.0"
      ]
     },
     "execution_count": 27,
     "metadata": {},
     "output_type": "execute_result"
    }
   ],
   "source": [
    "slice1 = tedtalk_onemil.iloc[3:6][\"Title\"]\n",
    "slice2 = tedtalk_onemil.iloc[4:8][[\"Speaker\", \"Views\"]]\n",
    "\n",
    "pd.concat([slice1, slice2], axis = 1)"
   ]
  },
  {
   "cell_type": "markdown",
   "metadata": {},
   "source": [
    "I sliced my data into two pieces.\n",
    "\n",
    "Then, concatenated them by axis = 1."
   ]
  },
  {
   "cell_type": "markdown",
   "metadata": {},
   "source": [
    "<h3> Saving data in a csv file"
   ]
  },
  {
   "cell_type": "code",
   "execution_count": 28,
   "metadata": {},
   "outputs": [],
   "source": [
    "tedtalk_onemil.to_csv(\"tedtalk_onemil.csv\", index = False)"
   ]
  },
  {
   "cell_type": "markdown",
   "metadata": {},
   "source": [
    "<h3> Additional capability of pandas "
   ]
  },
  {
   "cell_type": "code",
   "execution_count": 29,
   "metadata": {},
   "outputs": [
    {
     "data": {
      "text/html": [
       "<div>\n",
       "<style scoped>\n",
       "    .dataframe tbody tr th:only-of-type {\n",
       "        vertical-align: middle;\n",
       "    }\n",
       "\n",
       "    .dataframe tbody tr th {\n",
       "        vertical-align: top;\n",
       "    }\n",
       "\n",
       "    .dataframe thead th {\n",
       "        text-align: right;\n",
       "    }\n",
       "</style>\n",
       "<table border=\"1\" class=\"dataframe\">\n",
       "  <thead>\n",
       "    <tr style=\"text-align: right;\">\n",
       "      <th></th>\n",
       "      <th>48</th>\n",
       "      <th>47</th>\n",
       "      <th>128</th>\n",
       "      <th>148</th>\n",
       "    </tr>\n",
       "  </thead>\n",
       "  <tbody>\n",
       "    <tr>\n",
       "      <th>Title</th>\n",
       "      <td>The killer American diet that's sweeping the p...</td>\n",
       "      <td>8 secrets of success</td>\n",
       "      <td>How I built a windmill</td>\n",
       "      <td>My magic moves</td>\n",
       "    </tr>\n",
       "    <tr>\n",
       "      <th>Speaker</th>\n",
       "      <td>Dean Ornish</td>\n",
       "      <td>Richard St. John</td>\n",
       "      <td>William Kamkwamba</td>\n",
       "      <td>Kenichi Ebina</td>\n",
       "    </tr>\n",
       "    <tr>\n",
       "      <th>Event</th>\n",
       "      <td>TED2006</td>\n",
       "      <td>TED2005</td>\n",
       "      <td>TEDGlobal 2007</td>\n",
       "      <td>TED2007</td>\n",
       "    </tr>\n",
       "    <tr>\n",
       "      <th>Published_Year</th>\n",
       "      <td>2006</td>\n",
       "      <td>2006</td>\n",
       "      <td>2007</td>\n",
       "      <td>2007</td>\n",
       "    </tr>\n",
       "    <tr>\n",
       "      <th>Views</th>\n",
       "      <td>2861413</td>\n",
       "      <td>16355988</td>\n",
       "      <td>3662156</td>\n",
       "      <td>1965139</td>\n",
       "    </tr>\n",
       "  </tbody>\n",
       "</table>\n",
       "</div>"
      ],
      "text/plain": [
       "                                                              48   \\\n",
       "Title           The killer American diet that's sweeping the p...   \n",
       "Speaker                                               Dean Ornish   \n",
       "Event                                                     TED2006   \n",
       "Published_Year                                               2006   \n",
       "Views                                                     2861413   \n",
       "\n",
       "                                 47                      128             148  \n",
       "Title           8 secrets of success  How I built a windmill  My magic moves  \n",
       "Speaker             Richard St. John       William Kamkwamba   Kenichi Ebina  \n",
       "Event                        TED2005          TEDGlobal 2007         TED2007  \n",
       "Published_Year                  2006                    2007            2007  \n",
       "Views                       16355988                 3662156         1965139  "
      ]
     },
     "execution_count": 29,
     "metadata": {},
     "output_type": "execute_result"
    }
   ],
   "source": [
    "tedtalk_onemil_2 = tedtalk_onemil.iloc[1:5]\n",
    "tedtalk_onemil_2.T"
   ]
  },
  {
   "cell_type": "markdown",
   "metadata": {},
   "source": [
    "Above shows pandas can print out transpose of the dataframe by T operation."
   ]
  },
  {
   "cell_type": "code",
   "execution_count": 30,
   "metadata": {},
   "outputs": [
    {
     "data": {
      "text/plain": [
       "array([[\"The killer American diet that's sweeping the planet\",\n",
       "        'Dean Ornish', 'TED2006', '2006', 2861413],\n",
       "       ['8 secrets of success', 'Richard St. John', 'TED2005', '2006',\n",
       "        16355988],\n",
       "       ['How I built a windmill', 'William Kamkwamba', 'TEDGlobal 2007',\n",
       "        '2007', 3662156],\n",
       "       ['My magic moves', 'Kenichi Ebina', 'TED2007', '2007', 1965139]],\n",
       "      dtype=object)"
      ]
     },
     "execution_count": 30,
     "metadata": {},
     "output_type": "execute_result"
    }
   ],
   "source": [
    "tedtalk_onemil_2.to_numpy()"
   ]
  },
  {
   "cell_type": "markdown",
   "metadata": {},
   "source": [
    "Above shows pandas can convert its frame to numpy by to_numpy operation."
   ]
  }
 ],
 "metadata": {
  "kernelspec": {
   "display_name": "Python 3.9.13 ('base')",
   "language": "python",
   "name": "python3"
  },
  "language_info": {
   "codemirror_mode": {
    "name": "ipython",
    "version": 3
   },
   "file_extension": ".py",
   "mimetype": "text/x-python",
   "name": "python",
   "nbconvert_exporter": "python",
   "pygments_lexer": "ipython3",
   "version": "3.12.4"
  },
  "orig_nbformat": 4,
  "vscode": {
   "interpreter": {
    "hash": "8dcec0646a07c19faac6e577348c983076331677812979f00c2f3a5261c6c12e"
   }
  }
 },
 "nbformat": 4,
 "nbformat_minor": 2
}
